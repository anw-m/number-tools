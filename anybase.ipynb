{
 "metadata": {
  "language_info": {
   "codemirror_mode": {
    "name": "ipython",
    "version": 3
   },
   "file_extension": ".py",
   "mimetype": "text/x-python",
   "name": "python",
   "nbconvert_exporter": "python",
   "pygments_lexer": "ipython3",
   "version": 3
  },
  "orig_nbformat": 2
 },
 "nbformat": 4,
 "nbformat_minor": 2,
 "cells": [
  {
   "cell_type": "markdown",
   "metadata": {},
   "source": [
    "Any base-$n$ representation of a positive value $X$ is a unique finite sequence $S$ of positives integers as $S=(a_0,a_1+....a_{i-1},a_i)$ where $X=a_0+a_1\\times n,....+ a_{i-1}\\times n^{i-1}+a_i\\times n^i$. By convention $X$ in base-$n$ will be written as $X:a_ia_{i-1}...a_1a_0$"
   ]
  },
  {
   "cell_type": "markdown",
   "metadata": {},
   "source": []
  }
 ]
}