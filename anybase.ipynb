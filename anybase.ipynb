{
 "metadata": {
  "language_info": {
   "codemirror_mode": {
    "name": "ipython",
    "version": 3
   },
   "file_extension": ".py",
   "mimetype": "text/x-python",
   "name": "python",
   "nbconvert_exporter": "python",
   "pygments_lexer": "ipython3",
   "version": 3
  },
  "orig_nbformat": 2
 },
 "nbformat": 4,
 "nbformat_minor": 2,
 "cells": [
  {
   "cell_type": "markdown",
   "metadata": {},
   "source": [
    "Any base-$n$ representation of a positive value $X$ is a unique finite sequence $S$ of positives integers as $S=(a_0,a_1,....a_{i-1},a_i)$ where $X=a_0+a_1\\times n,....+ a_{i-1}\\times n^{i-1}+a_i\\times n^i$. By convention $X$ in base-$n$ will be written as $X:a_ia_{i-1}...a_1a_0$"
   ]
  },
  {
   "cell_type": "markdown",
   "metadata": {},
   "source": [
    "Let's write $X=x_0+x_1+.....+x_{i-1}+x_i$ where $x_k=a_k\\times n^k$. Suppose that $x_k=> x_k+y$ where $y=b\\times n^k$ we have 2 cases : $\\begin{cases} \n",
    "x_k+y<n^{k+1} \\iff a_k+b<n\\implies a_k=a_k+b \\\\\n",
    "x_k+y \\geq n^{k+1}\\iff a_k+b \\geq n\\implies a_k=a_k+b-n \\text{  and  } x_{k+1}=x_{k+1}+1 \\text{  until we have }a_k+b<n\n",
    " \\end{cases}$<br/>This operation is finally similar to an Euclidian Division on $x_k+y$ where $\\begin{cases} \n",
    "x_k  =(x_k+y) \\pmod{n} \\\\\n",
    "x_{k+1} =x_{k+1}+(x_k+y)\\div n\n",
    "\\end{cases}$<br/> and will ne repeated to $x_{k+2}, ..., x_{k+i} \\text{  until we have }(x_{k+i-1}+y)\\div n=0$"
   ]
  }
 ]
}